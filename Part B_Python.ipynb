{
 "cells": [
  {
   "cell_type": "markdown",
   "id": "5774bedd",
   "metadata": {},
   "source": [
    "## 1. Explore the Bitcoin blockchain and basic web coding (30 marks)"
   ]
  },
  {
   "cell_type": "markdown",
   "id": "2340f0d4",
   "metadata": {},
   "source": [
    "### 1.1. Extract information from your transactions"
   ]
  },
  {
   "cell_type": "markdown",
   "id": "8dcfb136",
   "metadata": {},
   "source": [
    "Go to your transaction history and find a way to locate the transaction on the blockchain. All wallets have a feature for viewing the transaction on the blockchain. Take a note of which block your transaction is in by taking its block height."
   ]
  },
  {
   "cell_type": "markdown",
   "id": "e4b65504",
   "metadata": {},
   "source": [
    "**Answer:** Block #825892\n",
    "\n",
    "000000000000000007c0166af21714cc4ac459cb9803cac9d6824d9bc6b77640\n",
    "\n",
    "(Height #825892)"
   ]
  },
  {
   "cell_type": "markdown",
   "id": "2558acec",
   "metadata": {},
   "source": [
    "From a Jupyter notebook, extract the following information from the same block by fetching data from the whatsonchain API.\n",
    "https://api.whatsonchain.com/v1/bsv/main/block/height/ place block height here. Your notebook should fetch, then print your data in JSON format, and you should obtain the following for the block with your transaction in it:\n",
    "\n",
    "- txcount\n",
    "- time\n",
    "- totalFees\n",
    "- confirmations\n",
    "- miner\n",
    "\n",
    "Include some code that converts the unix timestamp into human readable format to the nearest second. Explain what each of these parts of the block are in words."
   ]
  },
  {
   "cell_type": "code",
   "execution_count": 1,
   "id": "d097bed6",
   "metadata": {},
   "outputs": [
    {
     "name": "stdout",
     "output_type": "stream",
     "text": [
      "{'txcount': 877, 'time': '2024-01-06 09:50:04', 'totalFees': 0.0020447499999995955, 'confirmations': 1240, 'miner': 'qdlnk'}\n"
     ]
    }
   ],
   "source": [
    "import json\n",
    "import requests\n",
    "import datetime\n",
    "\n",
    "# Fetch data from the Whatsonchain API\n",
    "answer = requests.get(\"https://api.whatsonchain.com/v1/bsv/main/block/height/825892\")\n",
    "genesis_block = json.loads(answer.text)\n",
    "\n",
    "# Extract relevant information with formatted time\n",
    "timestamp = datetime.datetime.fromtimestamp(genesis_block['time'])\n",
    "results = {\n",
    "    'txcount': genesis_block['txcount'],\n",
    "    'time': timestamp.strftime('%Y-%m-%d %H:%M:%S'),\n",
    "    'totalFees': genesis_block['totalFees'],\n",
    "    'confirmations': genesis_block['confirmations'],\n",
    "    'miner': genesis_block['miner']\n",
    "}\n",
    "\n",
    "# Print the formatted result\n",
    "print(results)"
   ]
  },
  {
   "cell_type": "markdown",
   "id": "e2843af3",
   "metadata": {},
   "source": [
    "**Data explaination:**\n",
    "\n",
    "- txcount: The number of transactions in the block.\n",
    "\n",
    "- time: The timestamp when the block was mined.\n",
    "\n",
    "- totalFees: Total fees paid by users for all transactions in the block.\n",
    "\n",
    "- confirmations: The number of confirmations in this block, which represent the acceptance of a new block by the blockchain network. \n",
    "\n",
    "- miner: The entity or mining pool that mined the block."
   ]
  },
  {
   "cell_type": "markdown",
   "id": "98964d85",
   "metadata": {},
   "source": [
    "### 1.2. Basic web coding"
   ]
  },
  {
   "cell_type": "markdown",
   "id": "45323ff2",
   "metadata": {},
   "source": [
    "**1.2.1 Generates a random private key that is not shown on the webpage**"
   ]
  },
  {
   "cell_type": "markdown",
   "id": "2d73e23d",
   "metadata": {},
   "source": [
    "This part has been done in another file of the repository folder."
   ]
  },
  {
   "cell_type": "markdown",
   "id": "fb187c70",
   "metadata": {},
   "source": [
    "**1.2.2. From the private key, constructs a corresponding public key, and address**"
   ]
  },
  {
   "cell_type": "markdown",
   "id": "0eff8bd9",
   "metadata": {},
   "source": [
    "This part has been done in another file of the repository folder."
   ]
  },
  {
   "cell_type": "markdown",
   "id": "0e992b9e",
   "metadata": {},
   "source": [
    "**1.2.3. From the address, generates an associated QR code for receiving money**"
   ]
  },
  {
   "cell_type": "markdown",
   "id": "349e949f",
   "metadata": {},
   "source": [
    "This part has been done in another file of the repository folder."
   ]
  },
  {
   "cell_type": "markdown",
   "id": "2916c517",
   "metadata": {},
   "source": [
    "## 2. Time series Investigation of Bitcoin price"
   ]
  },
  {
   "cell_type": "markdown",
   "id": "4240c2bc",
   "metadata": {},
   "source": [
    "### 2.1. Obtain Time Series Data"
   ]
  },
  {
   "cell_type": "markdown",
   "id": "3765eadf",
   "metadata": {},
   "source": [
    "Obtain the following data by calling the FRED api (or any other of your choice) from a Jupyter notebook, and provide simple time series plots of the raw data: You must provide plots of three time series\n",
    "\n",
    "1. A chosen price of a cryptocurrency, or any other individual stock that is considered to be high risk\n",
    "\n",
    "2. A chosen price of an asset that is considered safe, like a stock price for a well known large company (if you like, you can obtain this from other api services like yahoo or quandl, or use FRED as on the course, with Gold price index code, for example ID7108)\n",
    "\n",
    "3. An index measure of overall stock market performance (eg the S&P500). Be sure to label your three series clearly, so that anyone reading your code can easily understand the analysis."
   ]
  },
  {
   "cell_type": "code",
   "execution_count": 2,
   "id": "2eda4f09",
   "metadata": {},
   "outputs": [
    {
     "name": "stdout",
     "output_type": "stream",
     "text": [
      "Requirement already satisfied: pandas in c:\\users\\lenovo\\anaconda3\\lib\\site-packages (2.0.3)\n",
      "Requirement already satisfied: numpy in c:\\users\\lenovo\\anaconda3\\lib\\site-packages (1.24.3)\n",
      "Requirement already satisfied: matplotlib in c:\\users\\lenovo\\anaconda3\\lib\\site-packages (3.7.2)\n",
      "Requirement already satisfied: pandas_datareader in c:\\users\\lenovo\\anaconda3\\lib\\site-packages (0.10.0)\n",
      "Requirement already satisfied: fredapi in c:\\users\\lenovo\\anaconda3\\lib\\site-packages (0.5.1)\n",
      "Requirement already satisfied: statsmodels in c:\\users\\lenovo\\anaconda3\\lib\\site-packages (0.14.0)\n",
      "Requirement already satisfied: python-dateutil>=2.8.2 in c:\\users\\lenovo\\anaconda3\\lib\\site-packages (from pandas) (2.8.2)\n",
      "Requirement already satisfied: pytz>=2020.1 in c:\\users\\lenovo\\anaconda3\\lib\\site-packages (from pandas) (2023.3.post1)\n",
      "Requirement already satisfied: tzdata>=2022.1 in c:\\users\\lenovo\\anaconda3\\lib\\site-packages (from pandas) (2023.3)\n",
      "Requirement already satisfied: contourpy>=1.0.1 in c:\\users\\lenovo\\anaconda3\\lib\\site-packages (from matplotlib) (1.0.5)\n",
      "Requirement already satisfied: cycler>=0.10 in c:\\users\\lenovo\\anaconda3\\lib\\site-packages (from matplotlib) (0.11.0)\n",
      "Requirement already satisfied: fonttools>=4.22.0 in c:\\users\\lenovo\\anaconda3\\lib\\site-packages (from matplotlib) (4.25.0)\n",
      "Requirement already satisfied: kiwisolver>=1.0.1 in c:\\users\\lenovo\\anaconda3\\lib\\site-packages (from matplotlib) (1.4.4)\n",
      "Requirement already satisfied: packaging>=20.0 in c:\\users\\lenovo\\anaconda3\\lib\\site-packages (from matplotlib) (23.1)\n",
      "Requirement already satisfied: pillow>=6.2.0 in c:\\users\\lenovo\\anaconda3\\lib\\site-packages (from matplotlib) (10.0.1)\n",
      "Requirement already satisfied: pyparsing<3.1,>=2.3.1 in c:\\users\\lenovo\\anaconda3\\lib\\site-packages (from matplotlib) (3.0.9)\n",
      "Requirement already satisfied: lxml in c:\\users\\lenovo\\anaconda3\\lib\\site-packages (from pandas_datareader) (4.9.3)\n",
      "Requirement already satisfied: requests>=2.19.0 in c:\\users\\lenovo\\anaconda3\\lib\\site-packages (from pandas_datareader) (2.31.0)\n",
      "Requirement already satisfied: scipy!=1.9.2,>=1.4 in c:\\users\\lenovo\\anaconda3\\lib\\site-packages (from statsmodels) (1.11.1)\n",
      "Requirement already satisfied: patsy>=0.5.2 in c:\\users\\lenovo\\anaconda3\\lib\\site-packages (from statsmodels) (0.5.3)\n",
      "Requirement already satisfied: six in c:\\users\\lenovo\\anaconda3\\lib\\site-packages (from patsy>=0.5.2->statsmodels) (1.16.0)\n",
      "Requirement already satisfied: charset-normalizer<4,>=2 in c:\\users\\lenovo\\anaconda3\\lib\\site-packages (from requests>=2.19.0->pandas_datareader) (2.0.4)\n",
      "Requirement already satisfied: idna<4,>=2.5 in c:\\users\\lenovo\\anaconda3\\lib\\site-packages (from requests>=2.19.0->pandas_datareader) (3.4)\n",
      "Requirement already satisfied: urllib3<3,>=1.21.1 in c:\\users\\lenovo\\anaconda3\\lib\\site-packages (from requests>=2.19.0->pandas_datareader) (1.26.16)\n",
      "Requirement already satisfied: certifi>=2017.4.17 in c:\\users\\lenovo\\anaconda3\\lib\\site-packages (from requests>=2.19.0->pandas_datareader) (2023.11.17)\n",
      "Note: you may need to restart the kernel to use updated packages.\n"
     ]
    }
   ],
   "source": [
    "# Install the pandas library for data manipulation and analysis \n",
    "# Install the matplot library for data visualisation\n",
    "# Install the pandas_datareader to extract data from various internet sources into a pandas dataframe \n",
    "# Install the fredapi library\n",
    "%pip install pandas numpy matplotlib pandas_datareader fredapi statsmodels"
   ]
  },
  {
   "cell_type": "code",
   "execution_count": 3,
   "id": "4742b86f",
   "metadata": {},
   "outputs": [],
   "source": [
    "## Reference to fetch data from FRED: \n",
    "# To get key: https://fred.stlouisfed.org/docs/api/api_key.html\n",
    "# For data information: https://fred.stlouisfed.org/\n",
    "# To fetch data: https://pypi.org/project/fredapi/ "
   ]
  },
  {
   "cell_type": "code",
   "execution_count": 4,
   "id": "6f283f09",
   "metadata": {},
   "outputs": [],
   "source": [
    "# Import necessary libraries\n",
    "import pandas as pd\n",
    "import matplotlib.pyplot as plt\n",
    "import pandas_datareader as pdr\n",
    "import numpy as np\n",
    "import statsmodels.api as sm\n",
    "from datetime import datetime\n",
    "from fredapi import Fred\n",
    "# Set the FRED API key\n",
    "fred = Fred(api_key = '74b63ef23274a172ccb5431fda9d90fb')"
   ]
  },
  {
   "cell_type": "code",
   "execution_count": 5,
   "id": "a3765ff2",
   "metadata": {},
   "outputs": [
    {
     "data": {
      "image/png": "[encoded data removed]",
      "text/plain": [
       "<Figure size 640x480 with 1 Axes>"
      ]
     },
     "metadata": {},
     "output_type": "display_data"
    }
   ],
   "source": [
    "# Get data from FRED\n",
    "bitcoin_price = fred.get_series('CBBTCUSD', '2015-02-01','2023-11-01',frequency = 'm')\n",
    "# Time series plot of a high risk asset (Bitcoint (BTC) price)\n",
    "plt.plot(bitcoin_price.index, bitcoin_price.values)\n",
    "plt.title('Time series plot of Bitcoin (BTC) price')\n",
    "plt.show()"
   ]
  },
  {
   "cell_type": "code",
   "execution_count": 6,
   "id": "3759d586",
   "metadata": {},
   "outputs": [
    {
     "data": {
      "image/png": "[encoded data removed]",
      "text/plain": [
       "<Figure size 640x480 with 1 Axes>"
      ]
     },
     "metadata": {},
     "output_type": "display_data"
    }
   ],
   "source": [
    "# Time series plot of a safe asset (Gold price index)\n",
    "gold_price_index = fred.get_series('ID7108','2015-02-01','2023-11-01',frequency = 'm')\n",
    "gold_price_index.plot(title = 'Time series plot of Gold price index')\n",
    "plt.show()"
   ]
  },
  {
   "cell_type": "code",
   "execution_count": 7,
   "id": "95780002",
   "metadata": {},
   "outputs": [
    {
     "data": {
      "image/png": "[encoded data removed]",
      "text/plain": [
       "<Figure size 640x480 with 1 Axes>"
      ]
     },
     "metadata": {},
     "output_type": "display_data"
    }
   ],
   "source": [
    "# Time series plots of an index measure of overall stock market performance(S&P500 index)\n",
    "SP500_index = fred.get_series('SP500','2015-02-01','2023-11-01',frequency = 'm')\n",
    "SP500_index.plot(title = 'Time series plot of S&P500 index')\n",
    "plt.show()"
   ]
  },
  {
   "cell_type": "markdown",
   "id": "8fec457a",
   "metadata": {},
   "source": [
    "### 2.2. Data Transformations"
   ]
  },
  {
   "cell_type": "markdown",
   "id": "5d07f708",
   "metadata": {},
   "source": [
    "- Choose the longest possible time span to conduct your analysis.\n",
    "\n",
    "- Make sure that your 3 data series are placed together into a Pandas\n",
    "DataFrame, with compatible time periods\n",
    "\n",
    "- Transform observations into returns by obtaining new series: $ln$ $x_t \\over x_{t−1}$\n",
    "\n",
    "where $x_t$ is the value of a variable for a particular observation and $x_{t−1}$ is its value 1 time period before"
   ]
  },
  {
   "cell_type": "code",
   "execution_count": 8,
   "id": "06a8f523",
   "metadata": {},
   "outputs": [
    {
     "name": "stdout",
     "output_type": "stream",
     "text": [
      "            Bitcoin price  Gold price index  S&P500 index\n",
      "2015-02-01         235.00             455.8       2082.20\n",
      "2015-03-01         270.12             433.9       2079.99\n",
      "2015-04-01         236.22             436.7       2094.86\n",
      "2015-05-01         237.43             430.8       2111.94\n",
      "2015-06-01         238.42             428.5       2099.28\n",
      "...                   ...               ...           ...\n",
      "2023-07-01       30057.10             695.7       4508.08\n",
      "2023-08-01       27849.98             706.5       4457.36\n",
      "2023-09-01       26305.66             697.6       4409.10\n",
      "2023-10-01       29754.17             661.6       4269.40\n",
      "2023-11-01       36595.67             721.1       4460.06\n",
      "\n",
      "[106 rows x 3 columns]\n"
     ]
    }
   ],
   "source": [
    "# Create a DataFrame with compatible time periods\n",
    "data_df = pd.DataFrame({\n",
    "    'Bitcoin price': bitcoin_price,\n",
    "    'Gold price index': gold_price_index,\n",
    "    'S&P500 index': SP500_index\n",
    "    })\n",
    "\n",
    "# Display the DataFrame\n",
    "print(data_df)\n",
    "data_df.to_csv('data_df.csv')"
   ]
  },
  {
   "cell_type": "code",
   "execution_count": 9,
   "id": "39d196d9",
   "metadata": {},
   "outputs": [],
   "source": [
    "# Calculate returns for each asset index\n",
    "bitcoin_monthly_returns = np.log(bitcoin_price/bitcoin_price.shift(1)).dropna()\n",
    "\n",
    "gold_monthly_returns = np.log(gold_price_index/gold_price_index.shift(1)).dropna()\n",
    "\n",
    "SP500_monthly_returns = np.log(SP500_index/SP500_index.shift(1)).dropna()\n",
    "\n",
    "# Create a new dataframe for these returns\n",
    "returns_df = pd.DataFrame({\n",
    "    'Bitcoin monthly retuns': bitcoin_monthly_returns,\n",
    "    'Gold monthly returns': gold_monthly_returns,\n",
    "    'S&P500 monthly returns': SP500_monthly_returns\n",
    "    })\n",
    "returns_df\n",
    "returns_df.to_csv('returns_df.csv')"
   ]
  },
  {
   "cell_type": "markdown",
   "id": "1172defc",
   "metadata": {},
   "source": [
    "### 2.3. Data Analysis"
   ]
  },
  {
   "cell_type": "markdown",
   "id": "2750097d",
   "metadata": {},
   "source": [
    "What is the correlation between the returns on risky and safe assets, and the market returns? Interpret these results with respect to CAPM theory.\n",
    "\n",
    "According to the assumptions behind the strict form of CAPM theory, equations of the following form should fully explain returns to holding any particular asset, here for bitcoin as an example with subscript b, subscript f refers to the risk free rate, and subscript m refers to the overall market (eg the S&P500 index returns).\n",
    "\n",
    "$$ r_{bt} − r_{ft} = \\alpha_b + \\beta_b * (r_{mt} − r_{ft}) + u_{bt} $$\n",
    "\n",
    "where $u_{bt}$ is an idiosyncratic unpredictable error term associated with Bitcoin. According to the strict form of CAPM, $\\alpha$ should be zero, and $\\beta$ provides a systematic measure of how high up the risk/return trade-off the asset is. Estimate $\\alpha$ and $\\beta$ for your chosen risky asset, using OLS regression, and interpret the results."
   ]
  },
  {
   "cell_type": "code",
   "execution_count": 10,
   "id": "670d49f8",
   "metadata": {},
   "outputs": [
    {
     "name": "stdout",
     "output_type": "stream",
     "text": [
      "                             OLS Regression Results                             \n",
      "================================================================================\n",
      "Dep. Variable:     Bitcoin risk premium   R-squared:                       0.196\n",
      "Model:                              OLS   Adj. R-squared:                  0.188\n",
      "Method:                   Least Squares   F-statistic:                     25.09\n",
      "Date:                  Mon, 15 Jan 2024   Prob (F-statistic):           2.28e-06\n",
      "Time:                          01:21:29   Log-Likelihood:                 38.401\n",
      "No. Observations:                   105   AIC:                            -72.80\n",
      "Df Residuals:                       103   BIC:                            -67.49\n",
      "Df Model:                             1                                         \n",
      "Covariance Type:              nonrobust                                         \n",
      "=======================================================================================\n",
      "                          coef    std err          t      P>|t|      [0.025      0.975]\n",
      "---------------------------------------------------------------------------------------\n",
      "const                   0.0390      0.017      2.356      0.020       0.006       0.072\n",
      "Market risk premium     1.6192      0.323      5.009      0.000       0.978       2.260\n",
      "==============================================================================\n",
      "Omnibus:                        8.924   Durbin-Watson:                   1.284\n",
      "Prob(Omnibus):                  0.012   Jarque-Bera (JB):                8.791\n",
      "Skew:                           0.609   Prob(JB):                       0.0123\n",
      "Kurtosis:                       3.725   Cond. No.                         19.5\n",
      "==============================================================================\n",
      "\n",
      "Notes:\n",
      "[1] Standard Errors assume that the covariance matrix of the errors is correctly specified.\n"
     ]
    }
   ],
   "source": [
    "# Define regressive variables\n",
    "diff_bitcoin_and_gold = bitcoin_monthly_returns - gold_monthly_returns\n",
    "diff_SP500_and_gold = SP500_monthly_returns - gold_monthly_returns\n",
    "\n",
    "# Create a dataframe of returns for regression\n",
    "regression_df = pd.DataFrame({\n",
    "    'Bitcoin risk premium': diff_bitcoin_and_gold,\n",
    "    'Market risk premium': diff_SP500_and_gold\n",
    "    })\n",
    "\n",
    "# Add a constant term for intercept in regression\n",
    "regression_df = sm.add_constant(regression_df)\n",
    "\n",
    "# Fit OLS regression model\n",
    "model = sm.OLS(regression_df['Bitcoin risk premium'], regression_df[['const', 'Market risk premium']])\n",
    "results = model.fit()\n",
    "\n",
    "# Print regression results\n",
    "print(results.summary())"
   ]
  },
  {
   "cell_type": "markdown",
   "id": "616608d2",
   "metadata": {},
   "source": [
    "**Result intepretation:**\n",
    "\n",
    "The above ouput provides summary results of the Ordinary Least Squares (OLS) regression model. This model contains various statistics to evaluate the goodness of fit and statistical significance of the estimated coefficience.\n",
    "\n",
    "- The dependent variable is 'bitcoin risk premium', denoted as $(r_{bt} - r_{ft})$, representing the excess return of the risky asset (bitcoin) over the risk-free asset (gold). This is a part of the risky asset's return that is not explained by the risk-free asset.\n",
    "\n",
    "- The independent variable is 'market risk premium', denoted as $(r_{mt} - r_{ft})$,representing the difference between market return (S&P500 index) and the risk-free asset (gold price index). Market risk premium is the rate of return on a risky investment.\n",
    "\n",
    "- The intercept term ($\\alpha_b$) is 0.0390 represents the estimated value of the dependent variable when the independent variable (market risk premium) is zero.\n",
    "\n",
    "- The coefficient of market risk premium ($\\beta_b$) is 1.6192 implies that a one-unit increase in the market risk premium results in 1.6192 unit increases in the bitcoint risk premium. \n",
    "\n",
    "- The coefficient of determination (R-squared) is 0.196 indicates that approximately 19.6% of variability in the bitcoin risk premium is explained by the market risk premium.\n",
    "\n",
    "- The adjusted R-squared, which is 0.188, adjusts the R-squared value based on the number of predictors in the model. The adjusted R-squared is slightly lower than the R-squared.\n",
    "\n",
    "- F-statistic is the test statistic for the overall significance of the model. This statistic evaluates whethe the model, with its predictors, explains the variance in the dependent variable better than a model with no predictor. F-statistic in this case is very small (2.28e-06), suggesting that the model is statistically significant.\n",
    "\n",
    "- P-values of the intercept and market risk premium are quite small (less than 0.05) indicate that they are statistically significant. "
   ]
  },
  {
   "cell_type": "markdown",
   "id": "4d49613e",
   "metadata": {},
   "source": [
    "## 3. Machine learning in practice"
   ]
  },
  {
   "cell_type": "markdown",
   "id": "4e72ac63",
   "metadata": {},
   "source": [
    "### 3.1. High Level Description of FinTech Firm"
   ]
  },
  {
   "cell_type": "markdown",
   "id": "e0b39c68",
   "metadata": {},
   "source": [
    "Provide a written description of Sarunas’ FinTech firm in words. You are not expected to explain technical parts in depth, but provide a mechanical description of what each of the four structural parts do, how they interact, and what they achieve overall. Include a description of what Logistic regression is, and why it is a useful machine learning technique."
   ]
  },
  {
   "cell_type": "markdown",
   "id": "523608fe",
   "metadata": {},
   "source": [
    "Answer: \n",
    "\n",
    "Sarunas's fintech firm offers an array of services, covering statistical modelling, data storage, data analysis, and loan application processing, to individuals. Leveraging loan data from Kaggle, the firm's primary objective is to forecast whether or not borrowers will fulfil their loan repayment obligations. The Logistic Regression model has been deployed to accomplish this prediction, delivering binary results that address the prior stated question.\n",
    "\n",
    "From the perspective of architecture, each Sarunas service is located inside a Docker container. Within the Docker-based architecture, every container operates as a virtual machine learning entity, boosting the company's agility and effectiveness. This design makes sure that the fintech firm's many services operate together seamlessly and with optimized functionality.\n",
    "\n",
    "The Streamlit UI service, which is similar to the FastAPI, delivers an easy and rapid approach towards building applications. Sarunas' fintech startup occupies Streamlit UI to deliver a front-end user experience that allows clients to enter essential data for loan processing.\n",
    "\n",
    "The Statistical Model service processes the submitted information and data acquired from Kaggle through the Fast API infrastructure, employing the Logistic Regression model to predict the likelihood that the customers will settle their loans. Particularly, the firm elects four relevant customer features: loan amount (denoted as 'loan_amount', representing the requested loan amount filled by customers), annual income (denoted as 'annual_inc', representing individual annual income), term (denoted as 'term', representing the requested loan duration), and employment length (denoted as 'emp_length', representing the number of years an individual has been employed).  \n",
    "\n",
    "This dataset is the processed to handle missing values and standardised key features. The target variable, 'loan_status', is transformed into a binary formart, where 'Fully Paid' is represened as 1 and 'Charge Of' is represented as 0. The Logistic Regression model is constructed using the scikit-learn library, incorporating a pipeline that includes a MinMaxScalar for scaling features. This model is trained on a subset of the dataset, specifically the 'X_train' and 'y_train' split. It is used to predict probabilities on 'X_test', and the Receiver Operating Characteristic (ROC) curve is plotted to evaluate its performance. Additionally, an accuracy analysis is conducted, varying the classification threshold to assess the model's performance under different scenarios.\n",
    "\n",
    "\n",
    " The firm computes accuracy scores across a range of thresholds and visualises the results. This analysis helps in fine-tuning the model and determining the optimal threshold for making loan repayment predictions.\n",
    "\n",
    "The predictive model, encapsulated within a Python pickle file ('model.pkl'), is saved for deployment within the fintech firm's infrastructure. The deployment allows the firm to seamlessly integrate this predictive capability into its loan issuance services, contributing to a data-driven and efficient decision-making process.\n",
    "\n",
    "The Postgres Database, in this context, is a non-relational database which stores loans requests and responses yielded from the Statistical Model service.\n",
    "\n",
    "JupyterLab is utilised for data analysis and exploration. The firm makes use of Jupyter notebooks (e.g., explore.ipynb) to analyse the loan data, and interact with the trained machine learning model. \n"
   ]
  },
  {
   "cell_type": "markdown",
   "id": "c6808a55",
   "metadata": {},
   "source": [
    "### 3.2. Written Description of Python Code"
   ]
  },
  {
   "cell_type": "markdown",
   "id": "2f20c0c5",
   "metadata": {},
   "source": [
    "Import necessary libraries"
   ]
  },
  {
   "cell_type": "code",
   "execution_count": 11,
   "id": "0d058a89",
   "metadata": {},
   "outputs": [],
   "source": [
    "import pandas as pd\n",
    "import pickle\n",
    "from sklearn.model_selection import train_test_split\n",
    "from sklearn.preprocessing import MinMaxScaler\n",
    "from sklearn.linear_model import LogisticRegression\n",
    "from sklearn.pipeline import Pipeline\n",
    "from sklearn.metrics import roc_auc_score, roc_curve, accuracy_score\n",
    "import matplotlib.pyplot as plt\n",
    "import seaborn as sns\n",
    "sns.set_style('white')\n",
    "import numpy as np"
   ]
  },
  {
   "cell_type": "markdown",
   "id": "96bdfd74",
   "metadata": {},
   "source": [
    "**Data Taken From:** https://www.kaggle.com/wordsforthewise/lending-club </br>\n",
    "**Model is From:** https://www.kaggle.com/benesalvatore/predict-default-using-logisitic-regression"
   ]
  },
  {
   "cell_type": "markdown",
   "id": "e47560e3",
   "metadata": {},
   "source": [
    "Create a python list named 'features' including 4 elements 'loan_amnt', 'annual_inc', 'term', 'emp_length'."
   ]
  },
  {
   "cell_type": "code",
   "execution_count": 12,
   "id": "11362145",
   "metadata": {},
   "outputs": [],
   "source": [
    "features = ['loan_amnt', 'annual_inc', 'term', 'emp_length']"
   ]
  },
  {
   "cell_type": "markdown",
   "id": "e5995893",
   "metadata": {},
   "source": [
    "Load the 'accepted_2007_to_2018Q4.csv' file into a DataFrame, only use columns that have been defined in the 'feature' list and the 'loan_status' column. \n",
    "\n",
    "Assign the DataFrame with the variable 'a'."
   ]
  },
  {
   "cell_type": "code",
   "execution_count": 13,
   "id": "c9a11ba6",
   "metadata": {},
   "outputs": [],
   "source": [
    "a = pd.read_csv('accepted_2007_to_2018Q4.csv', usecols=features+['loan_status'])"
   ]
  },
  {
   "cell_type": "markdown",
   "id": "4dbcf8a5",
   "metadata": {},
   "source": [
    "Create a new DataFrame named 'full_set' by filtering the 'loan_status' column in the DataFrame 'a'. Select rows in the 'loan_status' column with values 'Fully Paid' or 'Charged Off', and then make a copy to generate a new DataFrame 'full_set' to ensure that the modification does not impact the original data."
   ]
  },
  {
   "cell_type": "code",
   "execution_count": 14,
   "id": "f7889c1c",
   "metadata": {},
   "outputs": [],
   "source": [
    "full_set = a.query(\"loan_status in ('Fully Paid', 'Charged Off')\").copy()"
   ]
  },
  {
   "cell_type": "markdown",
   "id": "cbac3fd5",
   "metadata": {},
   "source": [
    "Remove rows with missing values in the 'emp_length' column from the 'full_set' DataFrame."
   ]
  },
  {
   "cell_type": "code",
   "execution_count": 15,
   "id": "5c86ffd7",
   "metadata": {},
   "outputs": [],
   "source": [
    "full_set = full_set.dropna(subset=['emp_length'])"
   ]
  },
  {
   "cell_type": "markdown",
   "id": "36300316",
   "metadata": {},
   "source": [
    "# Build the model - Logistic Regression"
   ]
  },
  {
   "cell_type": "markdown",
   "id": "ac491879",
   "metadata": {},
   "source": [
    "1. Transform our Label *loan_status* and other columns"
   ]
  },
  {
   "cell_type": "markdown",
   "id": "b3135b62",
   "metadata": {},
   "source": [
    "Transform values in the 'loan_status' column of the 'full_set' DataFrame into numerical format. Specifically, 'Fully Paid' is replaced with 1 and 'Charged Off' is replaced with 0.\n",
    "\n",
    "Transform values in the 'term' column of the 'full_set' DataFrame into numerical format. Specifically, '36 months' is replaced with 36 and '60 months' is replaced with 60."
   ]
  },
  {
   "cell_type": "code",
   "execution_count": 16,
   "id": "21519795",
   "metadata": {},
   "outputs": [],
   "source": [
    "full_set['loan_status'] = full_set['loan_status'].replace(\n",
    "    {\n",
    "        'Fully Paid': 1,\n",
    "        'Charged Off': 0\n",
    "    }\n",
    ")\n",
    "\n",
    "full_set['term'] = full_set['term'].replace(\n",
    "    {\n",
    "        ' 36 months': 36,\n",
    "        ' 60 months': 60\n",
    "    }\n",
    ")"
   ]
  },
  {
   "cell_type": "markdown",
   "id": "592f6af6",
   "metadata": {},
   "source": [
    "Modify the 'emp_length' column in the 'full_set' DataFrame by extracting the numeric part and handling special characters such as '+', '<', and converting them to appropriate numerical values."
   ]
  },
  {
   "cell_type": "code",
   "execution_count": 17,
   "id": "62fbc2e3",
   "metadata": {},
   "outputs": [],
   "source": [
    "full_set['emp_length'] = full_set['emp_length'].map(lambda x: x.split(' ')[0])\n",
    "full_set['emp_length'] = full_set['emp_length'].map(lambda x: str(x).replace('+', '').replace('<', '0'))"
   ]
  },
  {
   "cell_type": "markdown",
   "id": "d450fa8e",
   "metadata": {},
   "source": [
    "**Build Model**"
   ]
  },
  {
   "cell_type": "markdown",
   "id": "f69434af",
   "metadata": {},
   "source": [
    "Define the features for the model by listing all columns in the 'full_set' DataFrame except for the 'loan_status' column."
   ]
  },
  {
   "cell_type": "code",
   "execution_count": 18,
   "id": "0047da9c",
   "metadata": {},
   "outputs": [],
   "source": [
    "model_features = list(full_set.columns)\n",
    "model_features.remove('loan_status')"
   ]
  },
  {
   "cell_type": "markdown",
   "id": "7e020020",
   "metadata": {},
   "source": [
    "Print the first 05 rows of the 'full_set' DataFrame."
   ]
  },
  {
   "cell_type": "code",
   "execution_count": 19,
   "id": "17e67bcc",
   "metadata": {},
   "outputs": [
    {
     "data": {
      "text/html": [
       "<div>\n",
       "<style scoped>\n",
       "    .dataframe tbody tr th:only-of-type {\n",
       "        vertical-align: middle;\n",
       "    }\n",
       "\n",
       "    .dataframe tbody tr th {\n",
       "        vertical-align: top;\n",
       "    }\n",
       "\n",
       "    .dataframe thead th {\n",
       "        text-align: right;\n",
       "    }\n",
       "</style>\n",
       "<table border=\"1\" class=\"dataframe\">\n",
       "  <thead>\n",
       "    <tr style=\"text-align: right;\">\n",
       "      <th></th>\n",
       "      <th>loan_amnt</th>\n",
       "      <th>term</th>\n",
       "      <th>emp_length</th>\n",
       "      <th>annual_inc</th>\n",
       "      <th>loan_status</th>\n",
       "    </tr>\n",
       "  </thead>\n",
       "  <tbody>\n",
       "    <tr>\n",
       "      <th>0</th>\n",
       "      <td>3600.0</td>\n",
       "      <td>36</td>\n",
       "      <td>10</td>\n",
       "      <td>55000.0</td>\n",
       "      <td>1</td>\n",
       "    </tr>\n",
       "    <tr>\n",
       "      <th>1</th>\n",
       "      <td>24700.0</td>\n",
       "      <td>36</td>\n",
       "      <td>10</td>\n",
       "      <td>65000.0</td>\n",
       "      <td>1</td>\n",
       "    </tr>\n",
       "    <tr>\n",
       "      <th>2</th>\n",
       "      <td>20000.0</td>\n",
       "      <td>60</td>\n",
       "      <td>10</td>\n",
       "      <td>63000.0</td>\n",
       "      <td>1</td>\n",
       "    </tr>\n",
       "    <tr>\n",
       "      <th>4</th>\n",
       "      <td>10400.0</td>\n",
       "      <td>60</td>\n",
       "      <td>3</td>\n",
       "      <td>104433.0</td>\n",
       "      <td>1</td>\n",
       "    </tr>\n",
       "    <tr>\n",
       "      <th>5</th>\n",
       "      <td>11950.0</td>\n",
       "      <td>36</td>\n",
       "      <td>4</td>\n",
       "      <td>34000.0</td>\n",
       "      <td>1</td>\n",
       "    </tr>\n",
       "  </tbody>\n",
       "</table>\n",
       "</div>"
      ],
      "text/plain": [
       "   loan_amnt  term emp_length  annual_inc  loan_status\n",
       "0     3600.0    36         10     55000.0            1\n",
       "1    24700.0    36         10     65000.0            1\n",
       "2    20000.0    60         10     63000.0            1\n",
       "4    10400.0    60          3    104433.0            1\n",
       "5    11950.0    36          4     34000.0            1"
      ]
     },
     "execution_count": 19,
     "metadata": {},
     "output_type": "execute_result"
    }
   ],
   "source": [
    "full_set.head()"
   ]
  },
  {
   "cell_type": "markdown",
   "id": "a3661510",
   "metadata": {},
   "source": [
    "Split the 'full_set' DataFrame into training and testing sets: 'X_train' and 'X_test' include the selected model features, while 'y_train' and 'y_test' contain the corresponding 'loan_status' labels.\n",
    "\n",
    "Then set a seed for the random number generator to ensure that users will obtain the same split each time running the code."
   ]
  },
  {
   "cell_type": "code",
   "execution_count": 20,
   "id": "93b8f88c",
   "metadata": {},
   "outputs": [],
   "source": [
    "X_train, X_test, y_train, y_test = train_test_split(\n",
    "    full_set[model_features],\n",
    "    full_set['loan_status'],\n",
    "    random_state=42\n",
    ")"
   ]
  },
  {
   "cell_type": "markdown",
   "id": "b2e33b14",
   "metadata": {},
   "source": [
    "Initialise the Logistic Regression model, which is used for binary classification tasks.\n",
    "\n",
    "Create a MinMaxScaler model, which is a prepocessing tool to standardise feature ranges, typically scaling values between 0 and 1."
   ]
  },
  {
   "cell_type": "code",
   "execution_count": 21,
   "id": "65599ee7",
   "metadata": {},
   "outputs": [],
   "source": [
    "model = LogisticRegression()\n",
    "scaler = MinMaxScaler()"
   ]
  },
  {
   "cell_type": "markdown",
   "id": "776fcc71",
   "metadata": {},
   "source": [
    "Define a machine learning pipeline named pipeline with two steps: scaling the features using MinMaxScaler and employing a logistic regression model for training and prediction."
   ]
  },
  {
   "cell_type": "code",
   "execution_count": 22,
   "id": "d32fb648",
   "metadata": {},
   "outputs": [],
   "source": [
    "pipeline = Pipeline([('scaler', scaler), ('model', model)])"
   ]
  },
  {
   "cell_type": "markdown",
   "id": "8c3705b8",
   "metadata": {},
   "source": [
    "Train the machine learning model defined in the pipeline using the training data (X_train for features and y_train for labels)"
   ]
  },
  {
   "cell_type": "code",
   "execution_count": 23,
   "id": "7d9adb05",
   "metadata": {},
   "outputs": [
    {
     "data": {
      "text/html": [
       "<style>#sk-container-id-1 {color: black;}#sk-container-id-1 pre{padding: 0;}#sk-container-id-1 div.sk-toggleable {background-color: white;}#sk-container-id-1 label.sk-toggleable__label {cursor: pointer;display: block;width: 100%;margin-bottom: 0;padding: 0.3em;box-sizing: border-box;text-align: center;}#sk-container-id-1 label.sk-toggleable__label-arrow:before {content: \"▸\";float: left;margin-right: 0.25em;color: #696969;}#sk-container-id-1 label.sk-toggleable__label-arrow:hover:before {color: black;}#sk-container-id-1 div.sk-estimator:hover label.sk-toggleable__label-arrow:before {color: black;}#sk-container-id-1 div.sk-toggleable__content {max-height: 0;max-width: 0;overflow: hidden;text-align: left;background-color: #f0f8ff;}#sk-container-id-1 div.sk-toggleable__content pre {margin: 0.2em;color: black;border-radius: 0.25em;background-color: #f0f8ff;}#sk-container-id-1 input.sk-toggleable__control:checked~div.sk-toggleable__content {max-height: 200px;max-width: 100%;overflow: auto;}#sk-container-id-1 input.sk-toggleable__control:checked~label.sk-toggleable__label-arrow:before {content: \"▾\";}#sk-container-id-1 div.sk-estimator input.sk-toggleable__control:checked~label.sk-toggleable__label {background-color: #d4ebff;}#sk-container-id-1 div.sk-label input.sk-toggleable__control:checked~label.sk-toggleable__label {background-color: #d4ebff;}#sk-container-id-1 input.sk-hidden--visually {border: 0;clip: rect(1px 1px 1px 1px);clip: rect(1px, 1px, 1px, 1px);height: 1px;margin: -1px;overflow: hidden;padding: 0;position: absolute;width: 1px;}#sk-container-id-1 div.sk-estimator {font-family: monospace;background-color: #f0f8ff;border: 1px dotted black;border-radius: 0.25em;box-sizing: border-box;margin-bottom: 0.5em;}#sk-container-id-1 div.sk-estimator:hover {background-color: #d4ebff;}#sk-container-id-1 div.sk-parallel-item::after {content: \"\";width: 100%;border-bottom: 1px solid gray;flex-grow: 1;}#sk-container-id-1 div.sk-label:hover label.sk-toggleable__label {background-color: #d4ebff;}#sk-container-id-1 div.sk-serial::before {content: \"\";position: absolute;border-left: 1px solid gray;box-sizing: border-box;top: 0;bottom: 0;left: 50%;z-index: 0;}#sk-container-id-1 div.sk-serial {display: flex;flex-direction: column;align-items: center;background-color: white;padding-right: 0.2em;padding-left: 0.2em;position: relative;}#sk-container-id-1 div.sk-item {position: relative;z-index: 1;}#sk-container-id-1 div.sk-parallel {display: flex;align-items: stretch;justify-content: center;background-color: white;position: relative;}#sk-container-id-1 div.sk-item::before, #sk-container-id-1 div.sk-parallel-item::before {content: \"\";position: absolute;border-left: 1px solid gray;box-sizing: border-box;top: 0;bottom: 0;left: 50%;z-index: -1;}#sk-container-id-1 div.sk-parallel-item {display: flex;flex-direction: column;z-index: 1;position: relative;background-color: white;}#sk-container-id-1 div.sk-parallel-item:first-child::after {align-self: flex-end;width: 50%;}#sk-container-id-1 div.sk-parallel-item:last-child::after {align-self: flex-start;width: 50%;}#sk-container-id-1 div.sk-parallel-item:only-child::after {width: 0;}#sk-container-id-1 div.sk-dashed-wrapped {border: 1px dashed gray;margin: 0 0.4em 0.5em 0.4em;box-sizing: border-box;padding-bottom: 0.4em;background-color: white;}#sk-container-id-1 div.sk-label label {font-family: monospace;font-weight: bold;display: inline-block;line-height: 1.2em;}#sk-container-id-1 div.sk-label-container {text-align: center;}#sk-container-id-1 div.sk-container {/* jupyter's `normalize.less` sets `[hidden] { display: none; }` but bootstrap.min.css set `[hidden] { display: none !important; }` so we also need the `!important` here to be able to override the default hidden behavior on the sphinx rendered scikit-learn.org. See: https://github.com/scikit-learn/scikit-learn/issues/21755 */display: inline-block !important;position: relative;}#sk-container-id-1 div.sk-text-repr-fallback {display: none;}</style><div id=\"sk-container-id-1\" class=\"sk-top-container\"><div class=\"sk-text-repr-fallback\"><pre>Pipeline(steps=[(&#x27;scaler&#x27;, MinMaxScaler()), (&#x27;model&#x27;, LogisticRegression())])</pre><b>In a Jupyter environment, please rerun this cell to show the HTML representation or trust the notebook. <br />On GitHub, the HTML representation is unable to render, please try loading this page with nbviewer.org.</b></div><div class=\"sk-container\" hidden><div class=\"sk-item sk-dashed-wrapped\"><div class=\"sk-label-container\"><div class=\"sk-label sk-toggleable\"><input class=\"sk-toggleable__control sk-hidden--visually\" id=\"sk-estimator-id-1\" type=\"checkbox\" ><label for=\"sk-estimator-id-1\" class=\"sk-toggleable__label sk-toggleable__label-arrow\">Pipeline</label><div class=\"sk-toggleable__content\"><pre>Pipeline(steps=[(&#x27;scaler&#x27;, MinMaxScaler()), (&#x27;model&#x27;, LogisticRegression())])</pre></div></div></div><div class=\"sk-serial\"><div class=\"sk-item\"><div class=\"sk-estimator sk-toggleable\"><input class=\"sk-toggleable__control sk-hidden--visually\" id=\"sk-estimator-id-2\" type=\"checkbox\" ><label for=\"sk-estimator-id-2\" class=\"sk-toggleable__label sk-toggleable__label-arrow\">MinMaxScaler</label><div class=\"sk-toggleable__content\"><pre>MinMaxScaler()</pre></div></div></div><div class=\"sk-item\"><div class=\"sk-estimator sk-toggleable\"><input class=\"sk-toggleable__control sk-hidden--visually\" id=\"sk-estimator-id-3\" type=\"checkbox\" ><label for=\"sk-estimator-id-3\" class=\"sk-toggleable__label sk-toggleable__label-arrow\">LogisticRegression</label><div class=\"sk-toggleable__content\"><pre>LogisticRegression()</pre></div></div></div></div></div></div></div>"
      ],
      "text/plain": [
       "Pipeline(steps=[('scaler', MinMaxScaler()), ('model', LogisticRegression())])"
      ]
     },
     "execution_count": 23,
     "metadata": {},
     "output_type": "execute_result"
    }
   ],
   "source": [
    "pipeline.fit(X_train, y_train)"
   ]
  },
  {
   "cell_type": "markdown",
   "id": "a1b08c50",
   "metadata": {},
   "source": [
    "### 3.3. Build your own Machine Learning Model "
   ]
  },
  {
   "cell_type": "markdown",
   "id": "c371569f",
   "metadata": {},
   "source": [
    "Use the same data set obtained from Kaggle dataset and use SVC model to forecast the result.\n",
    "\n",
    "Create an SVC model and a scaler.\n",
    "\n",
    "model = SVC()\n",
    "\n",
    "scaler = MinMaxScaler()"
   ]
  },
  {
   "cell_type": "markdown",
   "id": "7975e280",
   "metadata": {},
   "source": [
    "from sklearn.svm import SVC\n",
    "\n",
    "features = ['loan_amnt', 'annual_inc', 'term', 'emp_length']\n",
    "\n",
    "a = pd.read_csv('accepted_2007_to_2018Q4.csv', usecols=features+['loan_status'])\n",
    "\n",
    "full_set = a.query(\"loan_status in ('Fully Paid', 'Charged Off')\").copy()\n",
    "\n",
    "full_set = full_set.dropna(subset=['emp_length'])\n",
    "\n",
    "full_set['loan_status'] = full_set['loan_status'].replace(\n",
    "    {\n",
    "        'Fully Paid': 1,\n",
    "        'Charged Off': 0\n",
    "    }\n",
    ")\n",
    "\n",
    "full_set['term'] = full_set['term'].replace(\n",
    "    {\n",
    "        ' 36 months': 36,\n",
    "        ' 60 months': 60\n",
    "    }\n",
    ")\n",
    "\n",
    "full_set['emp_length'] = full_set['emp_length'].map(lambda x: x.split(' ')[0])\n",
    "full_set['emp_length'] = full_set['emp_length'].map(lambda x: str(x).replace('+', '').replace('<', '0'))\n",
    "\n",
    "model_features = list(full_set.columns)\n",
    "model_features.remove('loan_status')\n",
    "\n",
    "X_train, X_test, y_train, y_test = train_test_split(\n",
    "    full_set[model_features],\n",
    "    full_set['loan_status'],\n",
    "    random_state=42\n",
    ")\n",
    "\n",
    "Create an SVC model and a scaler\n",
    "\n",
    "model = SVC()\n",
    "scaler = MinMaxScaler()\n",
    "\n",
    "\n",
    "pipeline = Pipeline([('scaler', scaler), ('model', model)])\n",
    "\n",
    "pipeline.fit(X_train, y_train)"
   ]
  }
 ],
 "metadata": {
  "kernelspec": {
   "display_name": "Python 3 (ipykernel)",
   "language": "python",
   "name": "python3"
  },
  "language_info": {
   "codemirror_mode": {
    "name": "ipython",
    "version": 3
   },
   "file_extension": ".py",
   "mimetype": "text/x-python",
   "name": "python",
   "nbconvert_exporter": "python",
   "pygments_lexer": "ipython3",
   "version": "3.11.5"
  }
 },
 "nbformat": 4,
 "nbformat_minor": 5
}
